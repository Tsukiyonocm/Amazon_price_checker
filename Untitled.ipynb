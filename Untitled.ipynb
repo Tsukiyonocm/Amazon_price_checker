{
 "cells": [
  {
   "cell_type": "code",
   "execution_count": 20,
   "metadata": {},
   "outputs": [],
   "source": [
    "# import requests\n",
    "# from bs4 import BeautifulSoup\n",
    "\n",
    "# url = \"https://www.amazon.com/hz/wishlist/ls/35QH7NCHBH01U/ref=nav_wishlist_lists_1?_encoding=UTF8&type=wishlist\"\n",
    "# headers = {\"User-Agent\" : \"Mozilla/5.0 (Windows NT 10.0; Win64; x64) AppleWebKit/537.36 (KHTML, like Gecko) Chrome/89.0.4389.90 Safari/537.36\", \"Referer\" : \"https://www.google.com\"}\n",
    "\n",
    "# reqs = requests.get(url, headers=headers)\n",
    "# soup = BeautifulSoup(reqs.text, \"html.parser\")\n",
    "\n",
    "# urls = []\n",
    "# for link in soup.find_all(\".a-link-normal\"):\n",
    "#     print(link.get(\"href\"))\n"
   ]
  },
  {
   "cell_type": "code",
   "execution_count": 21,
   "metadata": {},
   "outputs": [
    {
     "name": "stdout",
     "output_type": "stream",
     "text": [
      "2\n"
     ]
    }
   ],
   "source": [
    "dictionary = {\n",
    "    1: {\"Title\": \"Name of Book\", \"Price\": 4.99},\n",
    "    2: {\"Title\": \"Name of Book\", \"Price\": 4.99}\n",
    "}\n",
    "\n",
    "print(len(dictionary))"
   ]
  },
  {
   "cell_type": "code",
   "execution_count": 28,
   "metadata": {},
   "outputs": [],
   "source": [
    "nest_dict = {0: {'Title': 'Strange Dogs: An Expanse Novella (The Expanse)', 'Price': 2.99}, 1: {'Title': 'The Churn: An Expanse Novella (The Expanse)', 'Price': 2.99}, 2: {'Title': 'Gods of Risk: An Expanse Novella (The Expanse)', 'Price': 2.99}, 3: {'Title': 'Auberon: An Expanse Novella (The Expanse)', 'Price': 2.99}, 4: {'Title': 'Welcome to Dead House (Classic Goosebumps #13)', 'Price': 3.99}, 5: {'Title': 'Welcome to Dead House (Classic Goosebumps #13)', 'Price': 3.99}, 6: {'Title': 'The Butcher of Anderson Station: A Story of The Expanse', 'Price': 3.99}, 7: {'Title': 'The Vital Abyss: An Expanse Novella (The Expanse)', 'Price': 3.99}}"
   ]
  },
  {
   "cell_type": "code",
   "execution_count": 40,
   "metadata": {},
   "outputs": [
    {
     "name": "stdout",
     "output_type": "stream",
     "text": [
      "Strange Dogs: An Expanse Novella (The Expanse)\n"
     ]
    }
   ],
   "source": [
    "print(nest_dict[0][\"Title\"])"
   ]
  },
  {
   "cell_type": "code",
   "execution_count": 65,
   "metadata": {},
   "outputs": [
    {
     "name": "stdout",
     "output_type": "stream",
     "text": [
      " Strange Dogs: An Expanse Novella (The Expanse) 2.99\n",
      "\n",
      " The Churn: An Expanse Novella (The Expanse) 2.99\n",
      "\n",
      " Gods of Risk: An Expanse Novella (The Expanse) 2.99\n",
      "\n",
      " Auberon: An Expanse Novella (The Expanse) 2.99\n",
      "\n",
      " Welcome to Dead House (Classic Goosebumps #13) 3.99\n",
      "\n",
      " Welcome to Dead House (Classic Goosebumps #13) 3.99\n",
      "\n",
      " The Butcher of Anderson Station: A Story of The Expanse 3.99\n",
      "\n",
      " The Vital Abyss: An Expanse Novella (The Expanse) 3.99\n",
      "\n",
      "\n"
     ]
    }
   ],
   "source": [
    "body = \"\"\n",
    "\n",
    "for id, info in nest_dict.items():\n",
    "    for key in info:\n",
    "        body = body + \" \" + str(info[key])\n",
    "    body = body + \"\\n\\n\"\n",
    "\n",
    "print(body)"
   ]
  },
  {
   "cell_type": "code",
   "execution_count": null,
   "metadata": {},
   "outputs": [],
   "source": []
  }
 ],
 "metadata": {
  "kernelspec": {
   "display_name": "Python 3",
   "language": "python",
   "name": "python3"
  },
  "language_info": {
   "codemirror_mode": {
    "name": "ipython",
    "version": 3
   },
   "file_extension": ".py",
   "mimetype": "text/x-python",
   "name": "python",
   "nbconvert_exporter": "python",
   "pygments_lexer": "ipython3",
   "version": "3.7.1"
  }
 },
 "nbformat": 4,
 "nbformat_minor": 2
}
